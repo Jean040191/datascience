{
  "nbformat": 4,
  "nbformat_minor": 0,
  "metadata": {
    "colab": {
      "provenance": [],
      "authorship_tag": "ABX9TyOKoiSq3ukH+tbDWb2bi1VE",
      "include_colab_link": true
    },
    "kernelspec": {
      "name": "python3",
      "display_name": "Python 3"
    },
    "language_info": {
      "name": "python"
    }
  },
  "cells": [
    {
      "cell_type": "markdown",
      "metadata": {
        "id": "view-in-github",
        "colab_type": "text"
      },
      "source": [
        "<a href=\"https://colab.research.google.com/github/Jean040191/datascience/blob/main/INCTL.ipynb\" target=\"_parent\"><img src=\"https://colab.research.google.com/assets/colab-badge.svg\" alt=\"Open In Colab\"/></a>"
      ]
    },
    {
      "cell_type": "code",
      "source": [
        "import requests\n",
        "from bs4 import BeautifulSoup\n",
        "import re  # Import regular expressions module\n",
        "\n",
        "# URL of the webpage you want to scrape\n",
        "url = 'https://www.portalntc.org.br/relatorio-mensal-do-indice-nacional-de-custos-do-transporte-inctf-e-inctl-marco-24/'\n",
        "\n",
        "# Send a HTTP request to the URL\n",
        "response = requests.get(url)\n",
        "response.raise_for_status()  # This will raise an exception if there's an error\n",
        "\n",
        "# Parse the content of the request with BeautifulSoup\n",
        "soup = BeautifulSoup(response.text, 'html.parser')\n",
        "\n",
        "# Find the specific div with the class 'et_pb_module et_pb_post_content et_pb_post_content_0_tb_body'\n",
        "target_div = soup.find('div', class_='et_pb_module et_pb_post_content et_pb_post_content_0_tb_body')\n",
        "\n",
        "if target_div:\n",
        "    # Find all <strong> tags within this div\n",
        "    strong_tags = target_div.find_all('strong')\n",
        "    if len(strong_tags) > 4:  # Ensure there is at least a fifth <strong> tag\n",
        "        fifth_strong = strong_tags[4].text\n",
        "        # Use regex to find numbers in the string\n",
        "        numbers = re.findall(r'\\d+\\.?\\d*', fifth_strong)  # This regex matches integers and decimals\n",
        "        if numbers:\n",
        "            #Concatenate number and covert string to float type\n",
        "            index = numbers[0]+\".\"+numbers[1]\n",
        "            index_final = float(index)\n",
        "            print(\"O indice atual acumulado do INCT-F DECOPE/NTC em 12 meses é de: \", index_final)  # Print the first number found\n",
        "        else:\n",
        "            print(\"No numbers found in the fifth <strong> tag.\")\n",
        "    else:\n",
        "        print(\"There are less than five <strong> tags in the target div.\")\n",
        "else:\n",
        "    print(\"The specified div was not found.\")\n",
        "\n",
        "#Conditional for negociation\n",
        "\n",
        "if index_final >= 3.00:\n",
        "    print('Indice maior ou igual que 3. É hora de negociar')\n",
        "else:\n",
        "    print('Indice abaixo de 3. Manter negociação atual')"
      ],
      "metadata": {
        "colab": {
          "base_uri": "https://localhost:8080/"
        },
        "id": "QtKUGIaUTCSs",
        "outputId": "365cafe8-3c8e-4ae5-df94-c7cc87acc005"
      },
      "execution_count": 2,
      "outputs": [
        {
          "output_type": "stream",
          "name": "stdout",
          "text": [
            "O indice atual acumulado do INCT-F DECOPE/NTC em 12 meses é de:  3.45\n",
            "Indice maior ou igual que 3. É hora de negociar\n"
          ]
        }
      ]
    }
  ]
}